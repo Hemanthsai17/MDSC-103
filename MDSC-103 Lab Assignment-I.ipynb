{
 "cells": [
  {
   "cell_type": "code",
   "execution_count": 5,
   "id": "b97a0fc9",
   "metadata": {},
   "outputs": [
    {
     "name": "stdout",
     "output_type": "stream",
     "text": [
      "maxima for the function is at =  2.000026937594844\n"
     ]
    }
   ],
   "source": [
    "def f(x):\n",
    "    if 0<=x<=2:\n",
    "        return 3*x\n",
    "    elif 2<=x<=3:\n",
    "        return (1/3)*(20-x)\n",
    "    else:\n",
    "        return 0\n",
    "def gs(a,b,niter,err):\n",
    "    i=[a,b]\n",
    "    xl=a\n",
    "    xr=b\n",
    "    x1=x2=0\n",
    "    for j in range(niter):\n",
    "        x1=xr-0.618*(xr-xl)\n",
    "        x2=xl+0.618*(xr-xl)\n",
    "        e = f(x1)\n",
    "        e2=f(x2)\n",
    "        if e<e2:\n",
    "            xl=x1\n",
    "            xr=xr\n",
    "        elif e>e2:\n",
    "            xl=xl\n",
    "            xr=x2\n",
    "        else:\n",
    "            x1=xr-0.618*(xr-xl)\n",
    "            x2=xl+0.618*(xr-xl)\n",
    "            xl=x1\n",
    "            xr=x2\n",
    "        if abs(f(x1)-f(x2))<err:\n",
    "            break\n",
    "    return x1\n",
    "    \n",
    "l = gs(0,3,100,1e-5)\n",
    "z = f(l)\n",
    "print('Maxima for the function is at = ',l)"
   ]
  },
  {
   "cell_type": "code",
   "execution_count": null,
   "id": "712480d4",
   "metadata": {},
   "outputs": [],
   "source": []
  }
 ],
 "metadata": {
  "kernelspec": {
   "display_name": "Python 3 (ipykernel)",
   "language": "python",
   "name": "python3"
  },
  "language_info": {
   "codemirror_mode": {
    "name": "ipython",
    "version": 3
   },
   "file_extension": ".py",
   "mimetype": "text/x-python",
   "name": "python",
   "nbconvert_exporter": "python",
   "pygments_lexer": "ipython3",
   "version": "3.9.13"
  }
 },
 "nbformat": 4,
 "nbformat_minor": 5
}
